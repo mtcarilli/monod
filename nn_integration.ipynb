{
  "nbformat": 4,
  "nbformat_minor": 0,
  "metadata": {
    "colab": {
      "provenance": [],
      "authorship_tag": "ABX9TyNND1JtR5j4No5jWX3yApCi",
      "include_colab_link": true
    },
    "kernelspec": {
      "name": "python3",
      "display_name": "Python 3"
    },
    "language_info": {
      "name": "python"
    }
  },
  "cells": [
    {
      "cell_type": "markdown",
      "metadata": {
        "id": "view-in-github",
        "colab_type": "text"
      },
      "source": [
        "<a href=\"https://colab.research.google.com/github/pachterlab/monod/blob/nn-integration/nn_integration.ipynb\" target=\"_parent\"><img src=\"https://colab.research.google.com/assets/colab-badge.svg\" alt=\"Open In Colab\"/></a>"
      ]
    },
    {
      "cell_type": "code",
      "source": [],
      "metadata": {
        "id": "BMZBYgUChnFq"
      },
      "execution_count": null,
      "outputs": []
    },
    {
      "cell_type": "code",
      "execution_count": 1,
      "metadata": {
        "colab": {
          "base_uri": "https://localhost:8080/"
        },
        "id": "4HlCxUNXgEx8",
        "outputId": "dfffba12-7d06-4090-d171-009a33ecf6f2"
      },
      "outputs": [
        {
          "output_type": "stream",
          "name": "stdout",
          "text": [
            "Cloning into 'monod'...\n",
            "remote: Enumerating objects: 398, done.\u001b[K\n",
            "remote: Counting objects: 100% (55/55), done.\u001b[K\n",
            "remote: Compressing objects: 100% (37/37), done.\u001b[K\n",
            "remote: Total 398 (delta 28), reused 42 (delta 18), pack-reused 343\u001b[K\n",
            "Receiving objects: 100% (398/398), 442.83 KiB | 1.99 MiB/s, done.\n",
            "Resolving deltas: 100% (214/214), done.\n"
          ]
        }
      ],
      "source": [
        "!git clone -b nn-integration https://github.com/pachterlab/monod.git"
      ]
    },
    {
      "cell_type": "code",
      "source": [
        "import sys\n",
        "sys.path.insert(0, '/content/monod/src')"
      ],
      "metadata": {
        "id": "4v35w9h2i1xq"
      },
      "execution_count": 2,
      "outputs": []
    },
    {
      "cell_type": "code",
      "source": [
        "import monod\n",
        "from monod import cme_toolbox"
      ],
      "metadata": {
        "id": "UJUUtrjwi7P0"
      },
      "execution_count": 3,
      "outputs": []
    },
    {
      "cell_type": "code",
      "source": [
        "# monod?"
      ],
      "metadata": {
        "id": "QkFcOyZ-jcPk"
      },
      "execution_count": 26,
      "outputs": []
    },
    {
      "cell_type": "code",
      "source": [
        "import numpy as np\n",
        "import matplotlib.pyplot as plt"
      ],
      "metadata": {
        "id": "JkhCgM9QinuO"
      },
      "execution_count": 14,
      "outputs": []
    },
    {
      "cell_type": "code",
      "source": [
        "b = 10\n",
        "beta = 1\n",
        "gamma = 0.8\n",
        "p = np.log10(np.asarray([b,beta,gamma]))"
      ],
      "metadata": {
        "id": "KsjFWVPlhddY"
      },
      "execution_count": 5,
      "outputs": []
    },
    {
      "cell_type": "code",
      "source": [
        "limits = [20,25]"
      ],
      "metadata": {
        "id": "HzesxlfRimv5"
      },
      "execution_count": 10,
      "outputs": []
    },
    {
      "cell_type": "code",
      "source": [
        "model_baseline = monod.cme_toolbox.CMEModel('Bursty','None')"
      ],
      "metadata": {
        "id": "M767EC1uit5p"
      },
      "execution_count": 49,
      "outputs": []
    },
    {
      "cell_type": "code",
      "source": [
        "Pss = model_baseline.eval_model_pss(p,limits)"
      ],
      "metadata": {
        "id": "GQrn3J0gkOqn"
      },
      "execution_count": 13,
      "outputs": []
    },
    {
      "cell_type": "code",
      "source": [
        "plt.imshow(np.log10(Pss).T,aspect='auto')\n",
        "plt.gca().invert_yaxis()\n",
        "plt.xlabel('Nascent')\n",
        "plt.ylabel('Mature')"
      ],
      "metadata": {
        "colab": {
          "base_uri": "https://localhost:8080/",
          "height": 296
        },
        "id": "FXQkvC1GkZ7c",
        "outputId": "cfcb1c8f-3d08-46f4-8a86-0cdde00526c9"
      },
      "execution_count": 17,
      "outputs": [
        {
          "output_type": "execute_result",
          "data": {
            "text/plain": [
              "Text(0, 0.5, 'Mature')"
            ]
          },
          "metadata": {},
          "execution_count": 17
        },
        {
          "output_type": "display_data",
          "data": {
            "text/plain": [
              "<Figure size 432x288 with 1 Axes>"
            ],
            "image/png": "[encoded data removed]"
          },
          "metadata": {
            "needs_background": "light"
          }
        }
      ]
    },
    {
      "cell_type": "code",
      "source": [
        "n_cells = 1000\n",
        "X, Y = np.meshgrid(np.arange(limits[0]), np.arange(limits[1]), indexing=\"ij\")\n",
        "X = X.flatten()\n",
        "Y = Y.flatten()\n",
        "x = np.random.choice(np.arange(len(X)), p=Pss.flatten(), size=n_cells, replace=True)\n",
        "raw_counts = np.zeros((2,n_cells),dtype=int)\n",
        "raw_counts[0] = X[x]\n",
        "raw_counts[1] = Y[x]\n"
      ],
      "metadata": {
        "id": "3U3-zogkkgRj"
      },
      "execution_count": 32,
      "outputs": []
    },
    {
      "cell_type": "code",
      "source": [
        "raw_counts"
      ],
      "metadata": {
        "colab": {
          "base_uri": "https://localhost:8080/"
        },
        "id": "fZSZNtiDk7Mj",
        "outputId": "c607300f-7900-429c-d8a7-868f7fa7f663"
      },
      "execution_count": 34,
      "outputs": [
        {
          "output_type": "execute_result",
          "data": {
            "text/plain": [
              "array([[ 5, 14,  6, ...,  3,  1,  4],\n",
              "       [11,  3, 14, ..., 20,  6, 22]])"
            ]
          },
          "metadata": {},
          "execution_count": 34
        }
      ]
    },
    {
      "cell_type": "code",
      "source": [
        "unique, unique_counts = np.unique(\n",
        "    np.vstack(raw_counts).T, axis=0, return_counts=True\n",
        ")\n",
        "frequencies = unique_counts / n_cells\n",
        "unique = unique.astype(int)\n",
        "data = (unique, frequencies)\n"
      ],
      "metadata": {
        "id": "FDMzOfhDlAfX"
      },
      "execution_count": 35,
      "outputs": []
    },
    {
      "cell_type": "code",
      "source": [
        "model_baseline.eval_model_kld(p, limits, \"None\", data)"
      ],
      "metadata": {
        "colab": {
          "base_uri": "https://localhost:8080/"
        },
        "id": "lik4XdLpliJS",
        "outputId": "905af53a-620a-4ad1-f5cb-4168e878f702"
      },
      "execution_count": 38,
      "outputs": [
        {
          "output_type": "execute_result",
          "data": {
            "text/plain": [
              "0.2686942387451714"
            ]
          },
          "metadata": {},
          "execution_count": 38
        }
      ]
    },
    {
      "cell_type": "code",
      "source": [
        "fig1,ax1=plt.subplots(1,3,figsize=(12,4))\n",
        "param_names = model_baseline.get_log_name_str()\n",
        "for k in range(3):\n",
        "    # for \n",
        "    domain = p[k] + np.linspace(-1,1,20)\n",
        "    kld = []\n",
        "    for d in domain:\n",
        "        p_ = np.copy(p)\n",
        "        p_[k] = d\n",
        "        kld_ = model_baseline.eval_model_kld(p_, limits, \"None\", data)\n",
        "        kld.append(kld_)\n",
        "    ax1[k].plot(domain,kld)\n",
        "    kld_ = model_baseline.eval_model_kld(p, limits, \"None\", data)\n",
        "    ax1[k].scatter(p[k],kld_,30,'k')\n",
        "    ax1[k].set_xlabel(param_names[k])\n",
        "ax1[0].set_ylabel('KLD')"
      ],
      "metadata": {
        "colab": {
          "base_uri": "https://localhost:8080/",
          "height": 300
        },
        "id": "gZKi9idcmGwB",
        "outputId": "17536e2d-c0b0-469c-8a47-f360014e7039"
      },
      "execution_count": 47,
      "outputs": [
        {
          "output_type": "execute_result",
          "data": {
            "text/plain": [
              "Text(0, 0.5, 'KLD')"
            ]
          },
          "metadata": {},
          "execution_count": 47
        },
        {
          "output_type": "display_data",
          "data": {
            "text/plain": [
              "<Figure size 864x288 with 3 Axes>"
            ],
            "image/png": "[encoded data removed]"
          },
          "metadata": {
            "needs_background": "light"
          }
        }
      ]
    },
    {
      "cell_type": "code",
      "source": [
        "model_nn = monod.cme_toolbox.CMEModel('Bursty','None',quad_method='nn')"
      ],
      "metadata": {
        "id": "CBZnEtYJmtBm"
      },
      "execution_count": 50,
      "outputs": []
    },
    {
      "cell_type": "code",
      "source": [
        "Pss = model_nn.eval_model_pss(p,limits)"
      ],
      "metadata": {
        "colab": {
          "base_uri": "https://localhost:8080/",
          "height": 276
        },
        "id": "1-DVNT4AnbFh",
        "outputId": "5f56c9b4-d53f-47ab-90d9-c640c328bc04"
      },
      "execution_count": 53,
      "outputs": [
        {
          "output_type": "error",
          "ename": "ValueError",
          "evalue": "ignored",
          "traceback": [
            "\u001b[0;31m---------------------------------------------------------------------------\u001b[0m",
            "\u001b[0;31mValueError\u001b[0m                                Traceback (most recent call last)",
            "\u001b[0;32m<ipython-input-53-42c93e2637d5>\u001b[0m in \u001b[0;36m<module>\u001b[0;34m\u001b[0m\n\u001b[0;32m----> 1\u001b[0;31m \u001b[0mPss\u001b[0m \u001b[0;34m=\u001b[0m \u001b[0mmodel_nn\u001b[0m\u001b[0;34m.\u001b[0m\u001b[0meval_model_pss\u001b[0m\u001b[0;34m(\u001b[0m\u001b[0mp\u001b[0m\u001b[0;34m,\u001b[0m\u001b[0mlimits\u001b[0m\u001b[0;34m)\u001b[0m\u001b[0;34m\u001b[0m\u001b[0;34m\u001b[0m\u001b[0m\n\u001b[0m",
            "\u001b[0;32m/content/monod/src/monod/cme_toolbox.py\u001b[0m in \u001b[0;36meval_model_pss\u001b[0;34m(self, p, limits, samp)\u001b[0m\n\u001b[1;32m    306\u001b[0m             \u001b[0;32mand\u001b[0m \u001b[0;34m(\u001b[0m\u001b[0mself\u001b[0m\u001b[0;34m.\u001b[0m\u001b[0mseq_model\u001b[0m \u001b[0;34m==\u001b[0m \u001b[0;34m\"None\"\u001b[0m\u001b[0;34m)\u001b[0m\u001b[0;34m\u001b[0m\u001b[0;34m\u001b[0m\u001b[0m\n\u001b[1;32m    307\u001b[0m         ):\n\u001b[0;32m--> 308\u001b[0;31m             \u001b[0;32mreturn\u001b[0m \u001b[0mbursty_none_grid\u001b[0m\u001b[0;34m(\u001b[0m\u001b[0mp\u001b[0m\u001b[0;34m,\u001b[0m \u001b[0mlimits\u001b[0m\u001b[0;34m)\u001b[0m\u001b[0;34m\u001b[0m\u001b[0;34m\u001b[0m\u001b[0m\n\u001b[0m\u001b[1;32m    309\u001b[0m         \u001b[0;32melse\u001b[0m\u001b[0;34m:\u001b[0m\u001b[0;34m\u001b[0m\u001b[0;34m\u001b[0m\u001b[0m\n\u001b[1;32m    310\u001b[0m \u001b[0;34m\u001b[0m\u001b[0m\n",
            "\u001b[0;32m/content/monod/src/monod/nn_toolbox.py\u001b[0m in \u001b[0;36mbursty_none_grid\u001b[0;34m(p, lm)\u001b[0m\n\u001b[1;32m     34\u001b[0m     \"\"\"\n\u001b[1;32m     35\u001b[0m \u001b[0;34m\u001b[0m\u001b[0m\n\u001b[0;32m---> 36\u001b[0;31m     \u001b[0;32mraise\u001b[0m \u001b[0mValueError\u001b[0m\u001b[0;34m(\u001b[0m\u001b[0;34m'Not yet implemented!'\u001b[0m\u001b[0;34m)\u001b[0m\u001b[0;34m\u001b[0m\u001b[0;34m\u001b[0m\u001b[0m\n\u001b[0m",
            "\u001b[0;31mValueError\u001b[0m: Not yet implemented!"
          ]
        }
      ]
    },
    {
      "cell_type": "code",
      "source": [
        "model_nn.eval_model_kld(p, limits, \"None\", data)"
      ],
      "metadata": {
        "colab": {
          "base_uri": "https://localhost:8080/",
          "height": 310
        },
        "id": "AJyti1twnen6",
        "outputId": "a8200473-c919-4646-d238-d05ed217689d"
      },
      "execution_count": 55,
      "outputs": [
        {
          "output_type": "error",
          "ename": "ValueError",
          "evalue": "ignored",
          "traceback": [
            "\u001b[0;31m---------------------------------------------------------------------------\u001b[0m",
            "\u001b[0;31mValueError\u001b[0m                                Traceback (most recent call last)",
            "\u001b[0;32m<ipython-input-55-0ee336733f57>\u001b[0m in \u001b[0;36m<module>\u001b[0;34m\u001b[0m\n\u001b[0;32m----> 1\u001b[0;31m \u001b[0mmodel_nn\u001b[0m\u001b[0;34m.\u001b[0m\u001b[0meval_model_kld\u001b[0m\u001b[0;34m(\u001b[0m\u001b[0mp\u001b[0m\u001b[0;34m,\u001b[0m \u001b[0mlimits\u001b[0m\u001b[0;34m,\u001b[0m \u001b[0;34m\"None\"\u001b[0m\u001b[0;34m,\u001b[0m \u001b[0mdata\u001b[0m\u001b[0;34m)\u001b[0m\u001b[0;34m\u001b[0m\u001b[0;34m\u001b[0m\u001b[0m\n\u001b[0m",
            "\u001b[0;32m/content/monod/src/monod/cme_toolbox.py\u001b[0m in \u001b[0;36meval_model_kld\u001b[0;34m(self, p, limits, samp, data, hist_type, EPS)\u001b[0m\n\u001b[1;32m    269\u001b[0m                 \u001b[0;31m#neural method\u001b[0m\u001b[0;34m\u001b[0m\u001b[0;34m\u001b[0m\u001b[0;34m\u001b[0m\u001b[0m\n\u001b[1;32m    270\u001b[0m                 \u001b[0mlog_EPS\u001b[0m \u001b[0;34m=\u001b[0m \u001b[0mnp\u001b[0m\u001b[0;34m.\u001b[0m\u001b[0mlog\u001b[0m\u001b[0;34m(\u001b[0m\u001b[0mEPS\u001b[0m\u001b[0;34m)\u001b[0m\u001b[0;34m\u001b[0m\u001b[0;34m\u001b[0m\u001b[0m\n\u001b[0;32m--> 271\u001b[0;31m                 \u001b[0mlog_proposal\u001b[0m \u001b[0;34m=\u001b[0m \u001b[0mbursty_none_logL\u001b[0m\u001b[0;34m(\u001b[0m\u001b[0mp\u001b[0m\u001b[0;34m,\u001b[0m\u001b[0mx\u001b[0m\u001b[0;34m)\u001b[0m\u001b[0;34m\u001b[0m\u001b[0;34m\u001b[0m\u001b[0m\n\u001b[0m\u001b[1;32m    272\u001b[0m                 \u001b[0mlog_proposal\u001b[0m\u001b[0;34m[\u001b[0m\u001b[0mlog_proposal\u001b[0m \u001b[0;34m<\u001b[0m \u001b[0mlog_EPS\u001b[0m\u001b[0;34m]\u001b[0m \u001b[0;34m=\u001b[0m \u001b[0mlog_EPS\u001b[0m\u001b[0;34m\u001b[0m\u001b[0;34m\u001b[0m\u001b[0m\n\u001b[1;32m    273\u001b[0m                 \u001b[0md\u001b[0m \u001b[0;34m=\u001b[0m \u001b[0mf\u001b[0m \u001b[0;34m*\u001b[0m \u001b[0;34m(\u001b[0m\u001b[0mnp\u001b[0m\u001b[0;34m.\u001b[0m\u001b[0mlog\u001b[0m\u001b[0;34m(\u001b[0m\u001b[0mf\u001b[0m\u001b[0;34m)\u001b[0m \u001b[0;34m-\u001b[0m \u001b[0mlog_proposal\u001b[0m\u001b[0;34m)\u001b[0m\u001b[0;34m\u001b[0m\u001b[0;34m\u001b[0m\u001b[0m\n",
            "\u001b[0;32m/content/monod/src/monod/nn_toolbox.py\u001b[0m in \u001b[0;36mbursty_none_logL\u001b[0;34m(p, x)\u001b[0m\n\u001b[1;32m     15\u001b[0m     \"\"\"\n\u001b[1;32m     16\u001b[0m \u001b[0;34m\u001b[0m\u001b[0m\n\u001b[0;32m---> 17\u001b[0;31m     \u001b[0;32mraise\u001b[0m \u001b[0mValueError\u001b[0m\u001b[0;34m(\u001b[0m\u001b[0;34m'Not yet implemented!'\u001b[0m\u001b[0;34m)\u001b[0m\u001b[0;34m\u001b[0m\u001b[0;34m\u001b[0m\u001b[0m\n\u001b[0m\u001b[1;32m     18\u001b[0m \u001b[0;34m\u001b[0m\u001b[0m\n\u001b[1;32m     19\u001b[0m \u001b[0;32mdef\u001b[0m \u001b[0mbursty_none_grid\u001b[0m\u001b[0;34m(\u001b[0m\u001b[0mp\u001b[0m\u001b[0;34m,\u001b[0m\u001b[0mlm\u001b[0m\u001b[0;34m)\u001b[0m\u001b[0;34m:\u001b[0m\u001b[0;34m\u001b[0m\u001b[0;34m\u001b[0m\u001b[0m\n",
            "\u001b[0;31mValueError\u001b[0m: Not yet implemented!"
          ]
        }
      ]
    },
    {
      "cell_type": "code",
      "source": [],
      "metadata": {
        "id": "zfXcAFNrnpNb"
      },
      "execution_count": null,
      "outputs": []
    }
  ]
}